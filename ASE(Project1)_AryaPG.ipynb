{
  "cells": [
    {
      "cell_type": "code",
      "execution_count": 1,
      "metadata": {
        "id": "tvpeTC-cZGSs",
        "colab": {
          "base_uri": "https://localhost:8080/"
        },
        "outputId": "9fef7537-bd77-4546-d60e-9ca96551f6db"
      },
      "outputs": [
        {
          "output_type": "stream",
          "name": "stdout",
          "text": [
            "Mounted at /content/drive\n"
          ]
        }
      ],
      "source": [
        "from google.colab import drive\n",
        "drive.mount('/content/drive')"
      ]
    },
    {
      "cell_type": "markdown",
      "source": [
        "1.Implementing Heart Attack using **classification algorithms**\n",
        "\n",
        "\n",
        "\n",
        "\n",
        "\n",
        "\n"
      ],
      "metadata": {
        "id": "NMR-YGUfir9O"
      }
    },
    {
      "cell_type": "markdown",
      "source": [
        "### **DECISION TREE**"
      ],
      "metadata": {
        "id": "k4sskSxEy4NA"
      }
    },
    {
      "cell_type": "code",
      "execution_count": 3,
      "metadata": {
        "colab": {
          "base_uri": "https://localhost:8080/"
        },
        "id": "hTHj1mz1lAvA",
        "outputId": "dc71dfee-23af-4166-f8ca-72e5c601f548"
      },
      "outputs": [
        {
          "output_type": "stream",
          "name": "stdout",
          "text": [
            "Predicted class: [1]\n",
            "Accuracy: 1.0\n"
          ]
        },
        {
          "output_type": "stream",
          "name": "stderr",
          "text": [
            "/usr/local/lib/python3.10/dist-packages/sklearn/base.py:439: UserWarning: X does not have valid feature names, but DecisionTreeClassifier was fitted with feature names\n",
            "  warnings.warn(\n"
          ]
        }
      ],
      "source": [
        "#decisiontree\n",
        "import numpy as np\n",
        "import matplotlib.pyplot as plt\n",
        "import pandas as pd\n",
        "from sklearn.tree import DecisionTreeClassifier\n",
        "from sklearn.model_selection import train_test_split\n",
        "from sklearn.metrics import accuracy_score\n",
        "data = pd.read_csv('/content/drive/MyDrive/heart.csv')\n",
        "names = [\"age\", \"sex\", \"cp\", \"trestbps\", \"chol\", \"fbs\", \"restecg\", \"thalach\", \"exang\", \"oldpeak\", \"slope\", \"ca\", \"thal\", \"target\"]\n",
        "data.columns = names\n",
        "data = data.dropna()\n",
        "X = data.drop('target', axis=1)\n",
        "y = data['target']\n",
        "X_train, X_test, y_train, y_test = train_test_split(X, y, test_size=0.2, random_state=0)\n",
        "classifier = DecisionTreeClassifier(criterion='entropy', random_state=0, ccp_alpha=0)\n",
        "classifier.fit(X_train, y_train)\n",
        "X_marks = [[69, 0, 3, 133, 230, 1, 0, 150, 0, 2.3, 0, 0, 1]]\n",
        "prediction = classifier.predict(X_marks)\n",
        "print(\"Predicted class:\", prediction)\n",
        "y_pred = classifier.predict(X_test)\n",
        "accuracy = accuracy_score(y_test, y_pred)\n",
        "print(\"Accuracy:\", accuracy)\n",
        "\n"
      ]
    },
    {
      "cell_type": "markdown",
      "source": [
        "### **NAIVE BAYES**\n",
        "\n"
      ],
      "metadata": {
        "id": "wRqpRX3mySCS"
      }
    },
    {
      "cell_type": "code",
      "execution_count": 5,
      "metadata": {
        "colab": {
          "base_uri": "https://localhost:8080/"
        },
        "id": "2jHITavYU4QY",
        "outputId": "1ff5e789-9408-41cf-aadd-f5fc18d4aab5"
      },
      "outputs": [
        {
          "output_type": "stream",
          "name": "stdout",
          "text": [
            "prediction: [1 1 0 1 0 0 0 0 0 1 1 0 0 1 1 1 1 0 1 0 1 1 1 1 1 1 1 0 1 1 1 0 0 1 0 0 0\n",
            " 0 1 1 1 1 1 1 1 1 1 1 0 0 1 0 1 1 0 0 0 1 0 1 1 0 1 1 0 0 0 1 1 1 1 1 1 0\n",
            " 0 0 0 0 0 0 0 1 0 1 1 0 1 0 1 0 0 0 1 0 1 0 1 0 1 1 1 0 1 0 0 1 0 1 0 1 1\n",
            " 0 0 0 1 0 1 0 0 0 1 1 1 0 1 1 1 1 1 0 0 0 1 1 1 0 0 1 0 1 0 0 0 0 0 1 1 0\n",
            " 1 1 1 1 1 0 0 0 1 1 0 0 0 1 1 0 1 1 1 1 1 1 1 1 1 1 1 1 1 1 1 0 0 0 0 0 1\n",
            " 0 1 0 1 0 0 1 0 1 0 1 1 1 1 0 1 1 1 0 1 1 1 1 1 0 1 1 1 1 0 0 0 0 1 1 0 1\n",
            " 1 0 1 0 0 1 1 0 0 0 1 0 1 0 1 1 1 0 1 0 0 0 1 1 0 1 0 0 1 0 1 1 1 0 0 0 0\n",
            " 1 1 1 1 1 1 0 0 1 0 1 0 0 1 0 1 0 0]\n",
            "Accuracy: 0.851985559566787\n"
          ]
        }
      ],
      "source": [
        "#naive bayes\n",
        "import numpy as np\n",
        "import pandas as pd\n",
        "from sklearn.model_selection import train_test_split\n",
        "from sklearn.naive_bayes import GaussianNB\n",
        "from sklearn.metrics import accuracy_score\n",
        "data = pd.read_csv('/content/drive/MyDrive/heart.csv')\n",
        "names = [\"age\", \"sex\", \"cp\", \"trestbps\", \"chol\", \"fbs\", \"restecg\", \"thalach\", \"exang\", \"oldpeak\", \"slope\", \"ca\", \"thal\", \"target\"]\n",
        "data.columns = names\n",
        "data = data.dropna()\n",
        "X = data.drop('target', axis=1)\n",
        "y = data['target']\n",
        "X_train, X_test, y_train, y_test = train_test_split(X, y, test_size=0.27, random_state=0)\n",
        "classifier = GaussianNB()\n",
        "classifier.fit(X_train, y_train)\n",
        "y_pred = classifier.predict(X_test)\n",
        "print(\"prediction:\",y_pred)\n",
        "accuracy = accuracy_score(y_test, y_pred)\n",
        "print(\"Accuracy:\", accuracy)\n"
      ]
    },
    {
      "cell_type": "markdown",
      "source": [
        "## **KNN**\n"
      ],
      "metadata": {
        "id": "WF64FIPWycjv"
      }
    },
    {
      "cell_type": "code",
      "source": [
        "import numpy as np\n",
        "import pandas as pd\n",
        "from sklearn.model_selection import train_test_split\n",
        "from sklearn.neighbors import KNeighborsClassifier\n",
        "from sklearn.metrics import accuracy_score\n",
        "data = pd.read_csv('/content/drive/MyDrive/heart.csv')\n",
        "names = [\"age\", \"sex\", \"cp\", \"trestbps\", \"chol\", \"fbs\", \"restecg\", \"thalach\", \"exang\", \"oldpeak\", \"slope\", \"ca\", \"thal\", \"target\"]\n",
        "data.columns = names\n",
        "data = data.dropna()\n",
        "X = data.drop('target', axis=1)\n",
        "y = data['target']\n",
        "X_train, X_test, y_train, y_test = train_test_split(X, y, test_size=0.19, random_state=0)\n",
        "# Create a KNN classifier\n",
        "k = 3\n",
        "classifier = KNeighborsClassifier(n_neighbors=k)\n",
        "classifier.fit(X_train, y_train)\n",
        "y_pred = classifier.predict(X_test)\n",
        "accuracy = accuracy_score(y_test, y_pred)\n",
        "print(\"Accuracy:\", accuracy)\n"
      ],
      "metadata": {
        "colab": {
          "base_uri": "https://localhost:8080/"
        },
        "id": "MFeMDcBba4GQ",
        "outputId": "f6887a9d-ad4d-4a37-d49c-c3fd98025a5e"
      },
      "execution_count": 6,
      "outputs": [
        {
          "output_type": "stream",
          "name": "stdout",
          "text": [
            "Accuracy: 0.9179487179487179\n"
          ]
        }
      ]
    },
    {
      "cell_type": "code",
      "source": [
        "import numpy as np\n",
        "import pandas as pd\n",
        "from sklearn.model_selection import train_test_split\n",
        "from sklearn.ensemble import RandomForestClassifier\n",
        "from sklearn.metrics import accuracy_score\n",
        "data = pd.read_csv('/content/drive/MyDrive/heart.csv')\n",
        "names = [\"age\", \"sex\", \"cp\", \"trestbps\", \"chol\", \"fbs\", \"restecg\", \"thalach\", \"exang\", \"oldpeak\", \"slope\", \"ca\", \"thal\", \"target\"]\n",
        "data.columns = names\n",
        "data = data.dropna()\n",
        "X = data.drop('target', axis=1)\n",
        "y = data['target']\n",
        "X_train, X_test, y_train, y_test = train_test_split(X, y, test_size=0.2, random_state=0)\n",
        "n_estimators = 100\n",
        "classifier = RandomForestClassifier(n_estimators=n_estimators, random_state=0)\n",
        "classifier.fit(X_train, y_train)\n",
        "y_pred = classifier.predict(X_test)\n",
        "accuracy = accuracy_score(y_test, y_pred)\n",
        "print(\"Accuracy:\", accuracy)\n"
      ],
      "metadata": {
        "colab": {
          "base_uri": "https://localhost:8080/"
        },
        "id": "zExDoYKpc_lG",
        "outputId": "0c50b6c5-d5e6-47c9-833b-afea64a73a51"
      },
      "execution_count": 7,
      "outputs": [
        {
          "output_type": "stream",
          "name": "stdout",
          "text": [
            "Accuracy: 1.0\n"
          ]
        }
      ]
    },
    {
      "cell_type": "markdown",
      "source": [
        "### **SVM**"
      ],
      "metadata": {
        "id": "IJw-e7m1zFx8"
      }
    },
    {
      "cell_type": "code",
      "source": [
        "import numpy as np\n",
        "import pandas as pd\n",
        "from sklearn.model_selection import train_test_split\n",
        "from sklearn.svm import SVC\n",
        "from sklearn.metrics import accuracy_score\n",
        "\n",
        "\n",
        "data = pd.read_csv('/content/drive/MyDrive/heart.csv')\n",
        "names = [\"age\", \"sex\", \"cp\", \"trestbps\", \"chol\", \"fbs\", \"restecg\", \"thalach\", \"exang\", \"oldpeak\", \"slope\", \"ca\", \"thal\", \"target\"]\n",
        "data.columns = names\n",
        "data = data.dropna()\n",
        "X = data.drop('target', axis=1)\n",
        "y = data['target']\n",
        "X_train, X_test, y_train, y_test = train_test_split(X, y, test_size=0.4, random_state=0)\n",
        "classifier = SVC(kernel='linear', random_state=0)\n",
        "classifier.fit(X_train, y_train)\n",
        "y_pred = classifier.predict(X_test)\n",
        "accuracy = accuracy_score(y_test, y_pred)\n",
        "print(\"Accuracy:\", accuracy)\n"
      ],
      "metadata": {
        "colab": {
          "base_uri": "https://localhost:8080/"
        },
        "id": "CauhGxwtdYEG",
        "outputId": "9f96786c-1923-40e2-f600-126a89a17190"
      },
      "execution_count": 8,
      "outputs": [
        {
          "output_type": "stream",
          "name": "stdout",
          "text": [
            "Accuracy: 0.8682926829268293\n"
          ]
        }
      ]
    },
    {
      "cell_type": "markdown",
      "source": [
        "### **LINEAR REGRESSION**"
      ],
      "metadata": {
        "id": "9vxG5bcazJii"
      }
    },
    {
      "cell_type": "code",
      "source": [
        "import numpy as np\n",
        "import pandas as pd\n",
        "from sklearn.model_selection import train_test_split\n",
        "from sklearn.linear_model import LogisticRegression\n",
        "from sklearn.metrics import accuracy_score\n",
        "data = pd.read_csv('/content/drive/MyDrive/heart.csv')\n",
        "names = [\"age\", \"sex\", \"cp\", \"trestbps\", \"chol\", \"fbs\", \"restecg\", \"thalach\", \"exang\", \"oldpeak\", \"slope\", \"ca\", \"thal\", \"target\"]\n",
        "data.columns = names\n",
        "data = data.dropna()\n",
        "X = data.drop('target', axis=1)\n",
        "y = data['target']\n",
        "X_train, X_test, y_train, y_test = train_test_split(X, y, test_size=0.35, random_state=0)\n",
        "classifier = LogisticRegression(max_iter=2000,random_state=0)\n",
        "classifier.fit(X_train, y_train)\n",
        "y_pred = classifier.predict(X_test)\n",
        "accuracy = accuracy_score(y_test, y_pred)\n",
        "print(\"Accuracy:\", accuracy)\n"
      ],
      "metadata": {
        "colab": {
          "base_uri": "https://localhost:8080/"
        },
        "id": "CarrPGY1ehN2",
        "outputId": "340f94ab-1e7d-4b77-8409-3c2affe2531f"
      },
      "execution_count": 9,
      "outputs": [
        {
          "output_type": "stream",
          "name": "stdout",
          "text": [
            "Accuracy: 0.8746518105849582\n"
          ]
        }
      ]
    },
    {
      "cell_type": "markdown",
      "source": [
        "2.Implement Heart attack using **Deeping learning**"
      ],
      "metadata": {
        "id": "QwqnMEjPfElK"
      }
    },
    {
      "cell_type": "code",
      "source": [
        "import numpy as np\n",
        "import pandas as pd\n",
        "from sklearn.model_selection import train_test_split\n",
        "from sklearn.preprocessing import StandardScaler\n",
        "from sklearn.metrics import accuracy_score\n",
        "from keras.models import Sequential\n",
        "from keras.layers import Dense\n",
        "data = pd.read_csv('/content/drive/MyDrive/heart.csv')\n",
        "names = [\"age\", \"sex\", \"cp\", \"trestbps\", \"chol\", \"fbs\", \"restecg\", \"thalach\", \"exang\", \"oldpeak\", \"slope\", \"ca\", \"thal\", \"target\"]\n",
        "data.columns = names\n",
        "X = data.drop('target', axis=1)\n",
        "y = data['target']\n",
        "X_train, X_test, y_train, y_test = train_test_split(X, y, test_size=0.2, random_state=0)\n",
        "scaler = StandardScaler()\n",
        "X_train = scaler.fit_transform(X_train)\n",
        "X_test = scaler.transform(X_test)\n",
        "model = Sequential()\n",
        "model.add(Dense(64, input_dim=X_train.shape[1], activation='relu'))\n",
        "model.add(Dense(32, activation='relu'))\n",
        "model.add(Dense(1, activation='sigmoid'))\n",
        "model.compile(loss='binary_crossentropy', optimizer='adam', metrics=['accuracy'])\n",
        "model.fit(X_train, y_train, epochs=100, batch_size=32, verbose=1)\n",
        "y_pred = (model.predict(X_test) > 0.5).astype(int)\n",
        "accuracy = accuracy_score(y_test, y_pred)\n",
        "print(\"Accuracy:\", accuracy)\n"
      ],
      "metadata": {
        "colab": {
          "base_uri": "https://localhost:8080/"
        },
        "id": "h9vMF1W4gxuT",
        "outputId": "c2d7a863-9feb-4080-c6a5-4dfd7c17c81e"
      },
      "execution_count": 10,
      "outputs": [
        {
          "output_type": "stream",
          "name": "stdout",
          "text": [
            "Epoch 1/100\n",
            "26/26 [==============================] - 1s 2ms/step - loss: 0.6271 - accuracy: 0.6439\n",
            "Epoch 2/100\n",
            "26/26 [==============================] - 0s 2ms/step - loss: 0.4501 - accuracy: 0.8366\n",
            "Epoch 3/100\n",
            "26/26 [==============================] - 0s 2ms/step - loss: 0.3691 - accuracy: 0.8415\n",
            "Epoch 4/100\n",
            "26/26 [==============================] - 0s 2ms/step - loss: 0.3342 - accuracy: 0.8549\n",
            "Epoch 5/100\n",
            "26/26 [==============================] - 0s 2ms/step - loss: 0.3119 - accuracy: 0.8756\n",
            "Epoch 6/100\n",
            "26/26 [==============================] - 0s 2ms/step - loss: 0.2920 - accuracy: 0.8829\n",
            "Epoch 7/100\n",
            "26/26 [==============================] - 0s 2ms/step - loss: 0.2763 - accuracy: 0.9037\n",
            "Epoch 8/100\n",
            "26/26 [==============================] - 0s 2ms/step - loss: 0.2632 - accuracy: 0.9049\n",
            "Epoch 9/100\n",
            "26/26 [==============================] - 0s 2ms/step - loss: 0.2503 - accuracy: 0.9134\n",
            "Epoch 10/100\n",
            "26/26 [==============================] - 0s 2ms/step - loss: 0.2371 - accuracy: 0.9244\n",
            "Epoch 11/100\n",
            "26/26 [==============================] - 0s 2ms/step - loss: 0.2256 - accuracy: 0.9280\n",
            "Epoch 12/100\n",
            "26/26 [==============================] - 0s 2ms/step - loss: 0.2146 - accuracy: 0.9280\n",
            "Epoch 13/100\n",
            "26/26 [==============================] - 0s 2ms/step - loss: 0.2044 - accuracy: 0.9390\n",
            "Epoch 14/100\n",
            "26/26 [==============================] - 0s 2ms/step - loss: 0.1907 - accuracy: 0.9451\n",
            "Epoch 15/100\n",
            "26/26 [==============================] - 0s 2ms/step - loss: 0.1818 - accuracy: 0.9439\n",
            "Epoch 16/100\n",
            "26/26 [==============================] - 0s 2ms/step - loss: 0.1726 - accuracy: 0.9561\n",
            "Epoch 17/100\n",
            "26/26 [==============================] - 0s 2ms/step - loss: 0.1616 - accuracy: 0.9561\n",
            "Epoch 18/100\n",
            "26/26 [==============================] - 0s 2ms/step - loss: 0.1517 - accuracy: 0.9573\n",
            "Epoch 19/100\n",
            "26/26 [==============================] - 0s 2ms/step - loss: 0.1411 - accuracy: 0.9659\n",
            "Epoch 20/100\n",
            "26/26 [==============================] - 0s 2ms/step - loss: 0.1334 - accuracy: 0.9744\n",
            "Epoch 21/100\n",
            "26/26 [==============================] - 0s 2ms/step - loss: 0.1251 - accuracy: 0.9780\n",
            "Epoch 22/100\n",
            "26/26 [==============================] - 0s 2ms/step - loss: 0.1155 - accuracy: 0.9793\n",
            "Epoch 23/100\n",
            "26/26 [==============================] - 0s 2ms/step - loss: 0.1083 - accuracy: 0.9829\n",
            "Epoch 24/100\n",
            "26/26 [==============================] - 0s 2ms/step - loss: 0.1009 - accuracy: 0.9841\n",
            "Epoch 25/100\n",
            "26/26 [==============================] - 0s 2ms/step - loss: 0.0937 - accuracy: 0.9854\n",
            "Epoch 26/100\n",
            "26/26 [==============================] - 0s 2ms/step - loss: 0.0866 - accuracy: 0.9878\n",
            "Epoch 27/100\n",
            "26/26 [==============================] - 0s 2ms/step - loss: 0.0812 - accuracy: 0.9902\n",
            "Epoch 28/100\n",
            "26/26 [==============================] - 0s 2ms/step - loss: 0.0759 - accuracy: 0.9915\n",
            "Epoch 29/100\n",
            "26/26 [==============================] - 0s 2ms/step - loss: 0.0701 - accuracy: 0.9915\n",
            "Epoch 30/100\n",
            "26/26 [==============================] - 0s 2ms/step - loss: 0.0660 - accuracy: 0.9915\n",
            "Epoch 31/100\n",
            "26/26 [==============================] - 0s 2ms/step - loss: 0.0607 - accuracy: 0.9927\n",
            "Epoch 32/100\n",
            "26/26 [==============================] - 0s 2ms/step - loss: 0.0579 - accuracy: 0.9915\n",
            "Epoch 33/100\n",
            "26/26 [==============================] - 0s 2ms/step - loss: 0.0534 - accuracy: 0.9951\n",
            "Epoch 34/100\n",
            "26/26 [==============================] - 0s 2ms/step - loss: 0.0491 - accuracy: 0.9927\n",
            "Epoch 35/100\n",
            "26/26 [==============================] - 0s 2ms/step - loss: 0.0454 - accuracy: 0.9939\n",
            "Epoch 36/100\n",
            "26/26 [==============================] - 0s 2ms/step - loss: 0.0421 - accuracy: 0.9951\n",
            "Epoch 37/100\n",
            "26/26 [==============================] - 0s 2ms/step - loss: 0.0401 - accuracy: 0.9951\n",
            "Epoch 38/100\n",
            "26/26 [==============================] - 0s 2ms/step - loss: 0.0382 - accuracy: 0.9951\n",
            "Epoch 39/100\n",
            "26/26 [==============================] - 0s 2ms/step - loss: 0.0344 - accuracy: 0.9963\n",
            "Epoch 40/100\n",
            "26/26 [==============================] - 0s 2ms/step - loss: 0.0325 - accuracy: 0.9963\n",
            "Epoch 41/100\n",
            "26/26 [==============================] - 0s 2ms/step - loss: 0.0298 - accuracy: 0.9963\n",
            "Epoch 42/100\n",
            "26/26 [==============================] - 0s 2ms/step - loss: 0.0279 - accuracy: 0.9963\n",
            "Epoch 43/100\n",
            "26/26 [==============================] - 0s 2ms/step - loss: 0.0259 - accuracy: 1.0000\n",
            "Epoch 44/100\n",
            "26/26 [==============================] - 0s 2ms/step - loss: 0.0251 - accuracy: 1.0000\n",
            "Epoch 45/100\n",
            "26/26 [==============================] - 0s 2ms/step - loss: 0.0231 - accuracy: 1.0000\n",
            "Epoch 46/100\n",
            "26/26 [==============================] - 0s 2ms/step - loss: 0.0212 - accuracy: 1.0000\n",
            "Epoch 47/100\n",
            "26/26 [==============================] - 0s 2ms/step - loss: 0.0196 - accuracy: 1.0000\n",
            "Epoch 48/100\n",
            "26/26 [==============================] - 0s 2ms/step - loss: 0.0185 - accuracy: 1.0000\n",
            "Epoch 49/100\n",
            "26/26 [==============================] - 0s 2ms/step - loss: 0.0174 - accuracy: 1.0000\n",
            "Epoch 50/100\n",
            "26/26 [==============================] - 0s 2ms/step - loss: 0.0170 - accuracy: 1.0000\n",
            "Epoch 51/100\n",
            "26/26 [==============================] - 0s 2ms/step - loss: 0.0160 - accuracy: 1.0000\n",
            "Epoch 52/100\n",
            "26/26 [==============================] - 0s 2ms/step - loss: 0.0148 - accuracy: 1.0000\n",
            "Epoch 53/100\n",
            "26/26 [==============================] - 0s 2ms/step - loss: 0.0137 - accuracy: 1.0000\n",
            "Epoch 54/100\n",
            "26/26 [==============================] - 0s 2ms/step - loss: 0.0128 - accuracy: 1.0000\n",
            "Epoch 55/100\n",
            "26/26 [==============================] - 0s 2ms/step - loss: 0.0121 - accuracy: 1.0000\n",
            "Epoch 56/100\n",
            "26/26 [==============================] - 0s 2ms/step - loss: 0.0115 - accuracy: 1.0000\n",
            "Epoch 57/100\n",
            "26/26 [==============================] - 0s 2ms/step - loss: 0.0110 - accuracy: 1.0000\n",
            "Epoch 58/100\n",
            "26/26 [==============================] - 0s 2ms/step - loss: 0.0103 - accuracy: 1.0000\n",
            "Epoch 59/100\n",
            "26/26 [==============================] - 0s 2ms/step - loss: 0.0099 - accuracy: 1.0000\n",
            "Epoch 60/100\n",
            "26/26 [==============================] - 0s 2ms/step - loss: 0.0093 - accuracy: 1.0000\n",
            "Epoch 61/100\n",
            "26/26 [==============================] - 0s 2ms/step - loss: 0.0088 - accuracy: 1.0000\n",
            "Epoch 62/100\n",
            "26/26 [==============================] - 0s 2ms/step - loss: 0.0085 - accuracy: 1.0000\n",
            "Epoch 63/100\n",
            "26/26 [==============================] - 0s 2ms/step - loss: 0.0083 - accuracy: 1.0000\n",
            "Epoch 64/100\n",
            "26/26 [==============================] - 0s 2ms/step - loss: 0.0077 - accuracy: 1.0000\n",
            "Epoch 65/100\n",
            "26/26 [==============================] - 0s 2ms/step - loss: 0.0072 - accuracy: 1.0000\n",
            "Epoch 66/100\n",
            "26/26 [==============================] - 0s 2ms/step - loss: 0.0068 - accuracy: 1.0000\n",
            "Epoch 67/100\n",
            "26/26 [==============================] - 0s 2ms/step - loss: 0.0066 - accuracy: 1.0000\n",
            "Epoch 68/100\n",
            "26/26 [==============================] - 0s 2ms/step - loss: 0.0062 - accuracy: 1.0000\n",
            "Epoch 69/100\n",
            "26/26 [==============================] - 0s 3ms/step - loss: 0.0060 - accuracy: 1.0000\n",
            "Epoch 70/100\n",
            "26/26 [==============================] - 0s 2ms/step - loss: 0.0057 - accuracy: 1.0000\n",
            "Epoch 71/100\n",
            "26/26 [==============================] - 0s 2ms/step - loss: 0.0054 - accuracy: 1.0000\n",
            "Epoch 72/100\n",
            "26/26 [==============================] - 0s 2ms/step - loss: 0.0052 - accuracy: 1.0000\n",
            "Epoch 73/100\n",
            "26/26 [==============================] - 0s 2ms/step - loss: 0.0050 - accuracy: 1.0000\n",
            "Epoch 74/100\n",
            "26/26 [==============================] - 0s 2ms/step - loss: 0.0048 - accuracy: 1.0000\n",
            "Epoch 75/100\n",
            "26/26 [==============================] - 0s 2ms/step - loss: 0.0045 - accuracy: 1.0000\n",
            "Epoch 76/100\n",
            "26/26 [==============================] - 0s 2ms/step - loss: 0.0044 - accuracy: 1.0000\n",
            "Epoch 77/100\n",
            "26/26 [==============================] - 0s 2ms/step - loss: 0.0042 - accuracy: 1.0000\n",
            "Epoch 78/100\n",
            "26/26 [==============================] - 0s 2ms/step - loss: 0.0040 - accuracy: 1.0000\n",
            "Epoch 79/100\n",
            "26/26 [==============================] - 0s 2ms/step - loss: 0.0039 - accuracy: 1.0000\n",
            "Epoch 80/100\n",
            "26/26 [==============================] - 0s 2ms/step - loss: 0.0037 - accuracy: 1.0000\n",
            "Epoch 81/100\n",
            "26/26 [==============================] - 0s 2ms/step - loss: 0.0036 - accuracy: 1.0000\n",
            "Epoch 82/100\n",
            "26/26 [==============================] - 0s 2ms/step - loss: 0.0034 - accuracy: 1.0000\n",
            "Epoch 83/100\n",
            "26/26 [==============================] - 0s 2ms/step - loss: 0.0033 - accuracy: 1.0000\n",
            "Epoch 84/100\n",
            "26/26 [==============================] - 0s 2ms/step - loss: 0.0032 - accuracy: 1.0000\n",
            "Epoch 85/100\n",
            "26/26 [==============================] - 0s 2ms/step - loss: 0.0031 - accuracy: 1.0000\n",
            "Epoch 86/100\n",
            "26/26 [==============================] - 0s 2ms/step - loss: 0.0029 - accuracy: 1.0000\n",
            "Epoch 87/100\n",
            "26/26 [==============================] - 0s 2ms/step - loss: 0.0028 - accuracy: 1.0000\n",
            "Epoch 88/100\n",
            "26/26 [==============================] - 0s 2ms/step - loss: 0.0028 - accuracy: 1.0000\n",
            "Epoch 89/100\n",
            "26/26 [==============================] - 0s 2ms/step - loss: 0.0026 - accuracy: 1.0000\n",
            "Epoch 90/100\n",
            "26/26 [==============================] - 0s 2ms/step - loss: 0.0026 - accuracy: 1.0000\n",
            "Epoch 91/100\n",
            "26/26 [==============================] - 0s 2ms/step - loss: 0.0025 - accuracy: 1.0000\n",
            "Epoch 92/100\n",
            "26/26 [==============================] - 0s 2ms/step - loss: 0.0024 - accuracy: 1.0000\n",
            "Epoch 93/100\n",
            "26/26 [==============================] - 0s 2ms/step - loss: 0.0023 - accuracy: 1.0000\n",
            "Epoch 94/100\n",
            "26/26 [==============================] - 0s 3ms/step - loss: 0.0022 - accuracy: 1.0000\n",
            "Epoch 95/100\n",
            "26/26 [==============================] - 0s 2ms/step - loss: 0.0022 - accuracy: 1.0000\n",
            "Epoch 96/100\n",
            "26/26 [==============================] - 0s 3ms/step - loss: 0.0021 - accuracy: 1.0000\n",
            "Epoch 97/100\n",
            "26/26 [==============================] - 0s 3ms/step - loss: 0.0021 - accuracy: 1.0000\n",
            "Epoch 98/100\n",
            "26/26 [==============================] - 0s 3ms/step - loss: 0.0020 - accuracy: 1.0000\n",
            "Epoch 99/100\n",
            "26/26 [==============================] - 0s 3ms/step - loss: 0.0019 - accuracy: 1.0000\n",
            "Epoch 100/100\n",
            "26/26 [==============================] - 0s 3ms/step - loss: 0.0018 - accuracy: 1.0000\n",
            "7/7 [==============================] - 0s 3ms/step\n",
            "Accuracy: 1.0\n"
          ]
        }
      ]
    }
  ],
  "metadata": {
    "colab": {
      "provenance": []
    },
    "kernelspec": {
      "display_name": "Python 3",
      "name": "python3"
    },
    "language_info": {
      "name": "python"
    }
  },
  "nbformat": 4,
  "nbformat_minor": 0
}